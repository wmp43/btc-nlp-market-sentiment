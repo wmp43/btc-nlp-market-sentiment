{
 "cells": [
  {
   "cell_type": "code",
   "execution_count": 34,
   "id": "1e363070",
   "metadata": {},
   "outputs": [
    {
     "name": "stdout",
     "output_type": "stream",
     "text": [
      "opened sqlite connection\n",
      "closed sqlite connection\n",
      "Index(['PCA1', 'PCA2', 'time_published', 'index', 'titles', 'content', 'price',\n",
      "       'day_of_week', 'lagged_price', 'returns', '3d_rolling_volatility',\n",
      "       '7d_rolling_volatility', 'future_returns', 'mean_sentiment_score',\n",
      "       'max_sentiment_score', 'min_sentiment_score', 'std_sentiment_score'],\n",
      "      dtype='object')\n"
     ]
    }
   ],
   "source": [
    "import pandas as pd\n",
    "import sqlite3\n",
    "from config import db_name, feature_engineered_df\n",
    "import numpy as np\n",
    "\n",
    "\n",
    "def db_ingestion(db_name, processed_table_name):\n",
    "    '''\n",
    "    Get Data From DB to process for Model\n",
    "    '''\n",
    "    conn = sqlite3.connect(db_name)\n",
    "    print('opened sqlite connection')\n",
    "\n",
    "    query = f'SELECT * FROM {processed_table_name}'\n",
    "\n",
    "    df = pd.read_sql_query(query, conn) \n",
    "    conn.close()\n",
    "    print('closed sqlite connection')\n",
    "    return df\n",
    "\n",
    "df = db_ingestion(db_name,feature_engineered_df)\n",
    "print(df.columns)"
   ]
  },
  {
   "cell_type": "code",
   "execution_count": null,
   "id": "1fa83da6",
   "metadata": {},
   "outputs": [],
   "source": [
    "plt.plot(df['time_published'], df['future_returns'])"
   ]
  },
  {
   "cell_type": "code",
   "execution_count": 36,
   "id": "16417c8f",
   "metadata": {},
   "outputs": [
    {
     "name": "stdout",
     "output_type": "stream",
     "text": [
      "Int64Index([  0,   2,  30,  71,  84,  90,  91, 105, 184, 248, 250, 261, 262,\n",
      "            266, 286, 294, 306, 313, 315, 316, 334, 349, 379, 386, 399, 419,\n",
      "            425, 428],\n",
      "           dtype='int64')\n"
     ]
    }
   ],
   "source": [
    "import pandas as pd\n",
    "\n",
    "# Assuming 'df' is your DataFrame\n",
    "indices = df[(df['mean_sentiment_score'] == 0.0) & (df['max_sentiment_score'] == 0.0) & (df['min_sentiment_score'] == 0.0)].index\n",
    "\n",
    "print(indices)"
   ]
  },
  {
   "cell_type": "code",
   "execution_count": 38,
   "id": "0f627a58",
   "metadata": {},
   "outputs": [
    {
     "name": "stdout",
     "output_type": "stream",
     "text": [
      "0      2022-03-02 00:00:00\n",
      "2      2022-03-04 00:00:00\n",
      "30     2022-04-04 00:00:00\n",
      "71     2022-05-15 00:00:00\n",
      "84     2022-05-28 00:00:00\n",
      "90     2022-06-03 00:00:00\n",
      "91     2022-06-04 00:00:00\n",
      "105    2022-06-19 00:00:00\n",
      "184    2022-09-06 00:00:00\n",
      "248    2022-11-13 00:00:00\n",
      "250    2022-11-15 00:00:00\n",
      "261    2022-11-26 00:00:00\n",
      "262    2022-11-27 00:00:00\n",
      "266    2022-12-01 00:00:00\n",
      "286    2022-12-21 00:00:00\n",
      "294    2022-12-29 00:00:00\n",
      "306    2023-01-11 00:00:00\n",
      "313    2023-01-19 00:00:00\n",
      "315    2023-01-21 00:00:00\n",
      "316    2023-01-22 00:00:00\n",
      "334    2023-02-11 00:00:00\n",
      "349    2023-02-27 00:00:00\n",
      "379    2023-03-30 00:00:00\n",
      "386    2023-04-06 00:00:00\n",
      "399    2023-04-19 00:00:00\n",
      "419    2023-05-12 00:00:00\n",
      "425    2023-05-18 00:00:00\n",
      "428    2023-05-22 00:00:00\n",
      "Name: time_published, dtype: object\n"
     ]
    }
   ],
   "source": [
    "dates = df.loc[indices, 'time_published']\n",
    "print(dates)"
   ]
  },
  {
   "cell_type": "code",
   "execution_count": 33,
   "id": "fabc6703",
   "metadata": {},
   "outputs": [
    {
     "data": {
      "image/png": "[encoded data removed]",
      "text/plain": [
       "<Figure size 792x648 with 2 Axes>"
      ]
     },
     "metadata": {
      "needs_background": "light"
     },
     "output_type": "display_data"
    }
   ],
   "source": [
    "import seaborn as sns\n",
    "import matplotlib.pyplot as plt\n",
    "\n",
    "corr = features.corr()\n",
    "mask = np.triu(np.ones_like(corr, dtype=bool))\n",
    "f, ax = plt.subplots(figsize=(11, 9))\n",
    "cmap = sns.diverging_palette(230, 20, as_cmap=True)\n",
    "sns.heatmap(corr, mask=mask, cmap=cmap, vmax=.3, center=0,\n",
    "            square=True, linewidths=.5, cbar_kws={\"shrink\": .5})\n",
    "plt.show()"
   ]
  },
  {
   "cell_type": "code",
   "execution_count": 9,
   "id": "bd65bb11",
   "metadata": {},
   "outputs": [
    {
     "name": "stdout",
     "output_type": "stream",
     "text": [
      "Performing RFE with XGBoost:\n",
      "Support: [False  True False False  True  True  True  True False False False  True]\n",
      "Ranking: [5 1 2 6 1 1 1 1 4 3 7 1]\n",
      "\n",
      "\n",
      "Performing RFE with AdaBoost:\n",
      "Support: [ True  True False False  True  True  True  True False False False False]\n",
      "Ranking: [1 1 4 6 1 1 1 1 5 3 7 2]\n",
      "\n",
      "\n"
     ]
    }
   ],
   "source": [
    "for feature in features:\n",
    "    plt.figure(figsize=(8,6))\n",
    "    plt.scatter(df['future_returns'], df[feature])\n",
    "    plt.xlabel('Future Returns')\n",
    "    plt.ylabel(feature)\n",
    "    plt.title(f'Future Returns vs {feature}')\n",
    "    plt.show()"
   ]
  },
  {
   "cell_type": "code",
   "execution_count": 19,
   "id": "28264642",
   "metadata": {},
   "outputs": [
    {
     "name": "stdout",
     "output_type": "stream",
     "text": [
      "100%|██████████| 50/50 [00:07<00:00,  6.74trial/s, best loss: 0.0293959586922021]  \n",
      "Best parameters:  {'colsample_bytree': 0.4, 'learning_rate': 0.025, 'max_depth': 3, 'n_estimators': 200, 'reg_alpha': 0.0, 'reg_lambda': 0.0, 'subsample': 0.6000000000000001}\n",
      "The best hyperparameters are:  {'colsample_bytree': 0.4, 'learning_rate': 0.025, 'max_depth': 3, 'n_estimators': 200, 'reg_alpha': 0.0, 'reg_lambda': 0.0, 'subsample': 0.6000000000000001}\n"
     ]
    }
   ],
   "source": [
    "from sklearn.ensemble import AdaBoostRegressor\n",
    "\n",
    "def objective(params, features, target):\n",
    "    model = xgb.XGBRegressor(**params, objective='reg:squarederror')\n",
    "\n",
    "    tscv = TimeSeriesSplit(n_splits=3)\n",
    "    \n",
    "    scoring = {'RMSE': 'neg_root_mean_squared_error',\n",
    "               'MAPE': make_scorer(mean_absolute_percentage_error, greater_is_better=False)}\n",
    "    \n",
    "    score = cross_val_score(model, features, target, cv=tscv, scoring='neg_root_mean_squared_error').mean()\n",
    "    return {'loss': -score, 'status': STATUS_OK}\n",
    "\n",
    "def perform_bayesian_optimization(df):\n",
    "    features = df[[\n",
    "    'PCA1', \n",
    "    'PCA2',\n",
    "    'price',\n",
    "    'day_of_week', \n",
    "    'lagged_price', \n",
    "    'returns', \n",
    "    '3d_rolling_volatility',\n",
    "    '7d_rolling_volatility', \n",
    "    'mean_sentiment_score',\n",
    "    'max_sentiment_score', \n",
    "    'min_sentiment_score', \n",
    "    'std_sentiment_score']]\n",
    "\n",
    "    target = df['future_returns']\n",
    "\n",
    "    nan_target_indices = target[target.isna()].index\n",
    "    features = features.drop(nan_target_indices, axis=0)\n",
    "    target = target.drop(nan_target_indices, axis=0)\n",
    "\n",
    "    space = {\n",
    "        'n_estimators': hp.choice('n_estimators', [100,150,200]),\n",
    "        'max_depth': hp.choice('max_depth', [3,5,7]),\n",
    "        'learning_rate': hp.quniform('learning_rate', 0.01, 0.1, 0.025),\n",
    "        'subsample': hp.quniform('subsample', 0.5, 1, 0.1),\n",
    "        'colsample_bytree': hp.quniform('colsample_bytree', 0.2, 0.3, 0.4),\n",
    "        'reg_alpha': hp.quniform('reg_alpha', 0.1, 0.5, 0.25),\n",
    "        'reg_lambda': hp.quniform('reg_lambda', 0.1, 0.5, 0.25),\n",
    "    }\n",
    "\n",
    "    # Use a lambda function to pass features and target\n",
    "    best = fmin(fn=lambda params: objective(params, features, target), \n",
    "                space=space, \n",
    "                algo=tpe.suggest, \n",
    "                max_evals=50, \n",
    "                trials=Trials())\n",
    "    \n",
    "    best_params = space_eval(space, best)\n",
    "    \n",
    "    best_model = xgb.XGBRegressor(**best_params, objective='reg:squarederror')\n",
    "    best_model.fit(features, target)\n",
    "    \n",
    "    # Save the best model as a pickle file\n",
    "    joblib.dump(best_model, 'xgb_btc_model1.pkl')\n",
    "    \n",
    "    print(\"Best parameters: \", best_params)\n",
    "    \n",
    "    return best_params\n",
    "\n",
    "# Load your data to df\n",
    "# df = pd.read_csv('your_data.csv')\n",
    "\n",
    "# Call the function\n",
    "best_params = perform_bayesian_optimization(df)\n",
    "\n",
    "print(\"The best hyperparameters are: \", best_params)"
   ]
  },
  {
   "cell_type": "code",
   "execution_count": 22,
   "id": "575a9198",
   "metadata": {},
   "outputs": [
    {
     "name": "stdout",
     "output_type": "stream",
     "text": [
      "0.178812978075092 -0.153798392671479\n",
      "-0.00033880053307544804\n"
     ]
    }
   ],
   "source": [
    "print(df['returns'].max(), df['returns'].min())\n",
    "print(df['returns'].mean())"
   ]
  },
  {
   "cell_type": "code",
   "execution_count": 28,
   "id": "19bb8c61",
   "metadata": {},
   "outputs": [
    {
     "ename": "ValueError",
     "evalue": "Input contains NaN, infinity or a value too large for dtype('float64').",
     "output_type": "error",
     "traceback": [
      "\u001b[0;31m---------------------------------------------------------------------------\u001b[0m",
      "\u001b[0;31mValueError\u001b[0m                                Traceback (most recent call last)",
      "\u001b[0;32m<ipython-input-28-ed46e7294b5b>\u001b[0m in \u001b[0;36m<module>\u001b[0;34m\u001b[0m\n\u001b[1;32m     31\u001b[0m \u001b[0;34m\u001b[0m\u001b[0m\n\u001b[1;32m     32\u001b[0m \u001b[0mlog_reg\u001b[0m \u001b[0;34m=\u001b[0m \u001b[0mLogisticRegression\u001b[0m\u001b[0;34m(\u001b[0m\u001b[0;34m)\u001b[0m\u001b[0;34m\u001b[0m\u001b[0;34m\u001b[0m\u001b[0m\n\u001b[0;32m---> 33\u001b[0;31m \u001b[0mlog_reg\u001b[0m\u001b[0;34m.\u001b[0m\u001b[0mfit\u001b[0m\u001b[0;34m(\u001b[0m\u001b[0mX_train\u001b[0m\u001b[0;34m,\u001b[0m \u001b[0my_train\u001b[0m\u001b[0;34m)\u001b[0m\u001b[0;34m\u001b[0m\u001b[0;34m\u001b[0m\u001b[0m\n\u001b[0m\u001b[1;32m     34\u001b[0m \u001b[0;34m\u001b[0m\u001b[0m\n\u001b[1;32m     35\u001b[0m \u001b[0my_pred_test\u001b[0m \u001b[0;34m=\u001b[0m \u001b[0mlog_reg\u001b[0m\u001b[0;34m.\u001b[0m\u001b[0mpredict\u001b[0m\u001b[0;34m(\u001b[0m\u001b[0mX_test\u001b[0m\u001b[0;34m)\u001b[0m\u001b[0;34m\u001b[0m\u001b[0;34m\u001b[0m\u001b[0m\n",
      "\u001b[0;32m~/info3950-env/lib/python3.7/site-packages/sklearn/linear_model/_logistic.py\u001b[0m in \u001b[0;36mfit\u001b[0;34m(self, X, y, sample_weight)\u001b[0m\n\u001b[1;32m   1512\u001b[0m             \u001b[0mdtype\u001b[0m\u001b[0;34m=\u001b[0m\u001b[0m_dtype\u001b[0m\u001b[0;34m,\u001b[0m\u001b[0;34m\u001b[0m\u001b[0;34m\u001b[0m\u001b[0m\n\u001b[1;32m   1513\u001b[0m             \u001b[0morder\u001b[0m\u001b[0;34m=\u001b[0m\u001b[0;34m\"C\"\u001b[0m\u001b[0;34m,\u001b[0m\u001b[0;34m\u001b[0m\u001b[0;34m\u001b[0m\u001b[0m\n\u001b[0;32m-> 1514\u001b[0;31m             \u001b[0maccept_large_sparse\u001b[0m\u001b[0;34m=\u001b[0m\u001b[0msolver\u001b[0m \u001b[0;32mnot\u001b[0m \u001b[0;32min\u001b[0m \u001b[0;34m[\u001b[0m\u001b[0;34m\"liblinear\"\u001b[0m\u001b[0;34m,\u001b[0m \u001b[0;34m\"sag\"\u001b[0m\u001b[0;34m,\u001b[0m \u001b[0;34m\"saga\"\u001b[0m\u001b[0;34m]\u001b[0m\u001b[0;34m,\u001b[0m\u001b[0;34m\u001b[0m\u001b[0;34m\u001b[0m\u001b[0m\n\u001b[0m\u001b[1;32m   1515\u001b[0m         )\n\u001b[1;32m   1516\u001b[0m         \u001b[0mcheck_classification_targets\u001b[0m\u001b[0;34m(\u001b[0m\u001b[0my\u001b[0m\u001b[0;34m)\u001b[0m\u001b[0;34m\u001b[0m\u001b[0;34m\u001b[0m\u001b[0m\n",
      "\u001b[0;32m~/info3950-env/lib/python3.7/site-packages/sklearn/base.py\u001b[0m in \u001b[0;36m_validate_data\u001b[0;34m(self, X, y, reset, validate_separately, **check_params)\u001b[0m\n\u001b[1;32m    579\u001b[0m                 \u001b[0my\u001b[0m \u001b[0;34m=\u001b[0m \u001b[0mcheck_array\u001b[0m\u001b[0;34m(\u001b[0m\u001b[0my\u001b[0m\u001b[0;34m,\u001b[0m \u001b[0;34m**\u001b[0m\u001b[0mcheck_y_params\u001b[0m\u001b[0;34m)\u001b[0m\u001b[0;34m\u001b[0m\u001b[0;34m\u001b[0m\u001b[0m\n\u001b[1;32m    580\u001b[0m             \u001b[0;32melse\u001b[0m\u001b[0;34m:\u001b[0m\u001b[0;34m\u001b[0m\u001b[0;34m\u001b[0m\u001b[0m\n\u001b[0;32m--> 581\u001b[0;31m                 \u001b[0mX\u001b[0m\u001b[0;34m,\u001b[0m \u001b[0my\u001b[0m \u001b[0;34m=\u001b[0m \u001b[0mcheck_X_y\u001b[0m\u001b[0;34m(\u001b[0m\u001b[0mX\u001b[0m\u001b[0;34m,\u001b[0m \u001b[0my\u001b[0m\u001b[0;34m,\u001b[0m \u001b[0;34m**\u001b[0m\u001b[0mcheck_params\u001b[0m\u001b[0;34m)\u001b[0m\u001b[0;34m\u001b[0m\u001b[0;34m\u001b[0m\u001b[0m\n\u001b[0m\u001b[1;32m    582\u001b[0m             \u001b[0mout\u001b[0m \u001b[0;34m=\u001b[0m \u001b[0mX\u001b[0m\u001b[0;34m,\u001b[0m \u001b[0my\u001b[0m\u001b[0;34m\u001b[0m\u001b[0;34m\u001b[0m\u001b[0m\n\u001b[1;32m    583\u001b[0m \u001b[0;34m\u001b[0m\u001b[0m\n",
      "\u001b[0;32m~/info3950-env/lib/python3.7/site-packages/sklearn/utils/validation.py\u001b[0m in \u001b[0;36mcheck_X_y\u001b[0;34m(X, y, accept_sparse, accept_large_sparse, dtype, order, copy, force_all_finite, ensure_2d, allow_nd, multi_output, ensure_min_samples, ensure_min_features, y_numeric, estimator)\u001b[0m\n\u001b[1;32m    977\u001b[0m     )\n\u001b[1;32m    978\u001b[0m \u001b[0;34m\u001b[0m\u001b[0m\n\u001b[0;32m--> 979\u001b[0;31m     \u001b[0my\u001b[0m \u001b[0;34m=\u001b[0m \u001b[0m_check_y\u001b[0m\u001b[0;34m(\u001b[0m\u001b[0my\u001b[0m\u001b[0;34m,\u001b[0m \u001b[0mmulti_output\u001b[0m\u001b[0;34m=\u001b[0m\u001b[0mmulti_output\u001b[0m\u001b[0;34m,\u001b[0m \u001b[0my_numeric\u001b[0m\u001b[0;34m=\u001b[0m\u001b[0my_numeric\u001b[0m\u001b[0;34m)\u001b[0m\u001b[0;34m\u001b[0m\u001b[0;34m\u001b[0m\u001b[0m\n\u001b[0m\u001b[1;32m    980\u001b[0m \u001b[0;34m\u001b[0m\u001b[0m\n\u001b[1;32m    981\u001b[0m     \u001b[0mcheck_consistent_length\u001b[0m\u001b[0;34m(\u001b[0m\u001b[0mX\u001b[0m\u001b[0;34m,\u001b[0m \u001b[0my\u001b[0m\u001b[0;34m)\u001b[0m\u001b[0;34m\u001b[0m\u001b[0;34m\u001b[0m\u001b[0m\n",
      "\u001b[0;32m~/info3950-env/lib/python3.7/site-packages/sklearn/utils/validation.py\u001b[0m in \u001b[0;36m_check_y\u001b[0;34m(y, multi_output, y_numeric)\u001b[0m\n\u001b[1;32m    992\u001b[0m     \u001b[0;32melse\u001b[0m\u001b[0;34m:\u001b[0m\u001b[0;34m\u001b[0m\u001b[0;34m\u001b[0m\u001b[0m\n\u001b[1;32m    993\u001b[0m         \u001b[0my\u001b[0m \u001b[0;34m=\u001b[0m \u001b[0mcolumn_or_1d\u001b[0m\u001b[0;34m(\u001b[0m\u001b[0my\u001b[0m\u001b[0;34m,\u001b[0m \u001b[0mwarn\u001b[0m\u001b[0;34m=\u001b[0m\u001b[0;32mTrue\u001b[0m\u001b[0;34m)\u001b[0m\u001b[0;34m\u001b[0m\u001b[0;34m\u001b[0m\u001b[0m\n\u001b[0;32m--> 994\u001b[0;31m         \u001b[0m_assert_all_finite\u001b[0m\u001b[0;34m(\u001b[0m\u001b[0my\u001b[0m\u001b[0;34m)\u001b[0m\u001b[0;34m\u001b[0m\u001b[0;34m\u001b[0m\u001b[0m\n\u001b[0m\u001b[1;32m    995\u001b[0m         \u001b[0m_ensure_no_complex_data\u001b[0m\u001b[0;34m(\u001b[0m\u001b[0my\u001b[0m\u001b[0;34m)\u001b[0m\u001b[0;34m\u001b[0m\u001b[0;34m\u001b[0m\u001b[0m\n\u001b[1;32m    996\u001b[0m     \u001b[0;32mif\u001b[0m \u001b[0my_numeric\u001b[0m \u001b[0;32mand\u001b[0m \u001b[0my\u001b[0m\u001b[0;34m.\u001b[0m\u001b[0mdtype\u001b[0m\u001b[0;34m.\u001b[0m\u001b[0mkind\u001b[0m \u001b[0;34m==\u001b[0m \u001b[0;34m\"O\"\u001b[0m\u001b[0;34m:\u001b[0m\u001b[0;34m\u001b[0m\u001b[0;34m\u001b[0m\u001b[0m\n",
      "\u001b[0;32m~/info3950-env/lib/python3.7/site-packages/sklearn/utils/validation.py\u001b[0m in \u001b[0;36m_assert_all_finite\u001b[0;34m(X, allow_nan, msg_dtype)\u001b[0m\n\u001b[1;32m    114\u001b[0m             raise ValueError(\n\u001b[1;32m    115\u001b[0m                 msg_err.format(\n\u001b[0;32m--> 116\u001b[0;31m                     \u001b[0mtype_err\u001b[0m\u001b[0;34m,\u001b[0m \u001b[0mmsg_dtype\u001b[0m \u001b[0;32mif\u001b[0m \u001b[0mmsg_dtype\u001b[0m \u001b[0;32mis\u001b[0m \u001b[0;32mnot\u001b[0m \u001b[0;32mNone\u001b[0m \u001b[0;32melse\u001b[0m \u001b[0mX\u001b[0m\u001b[0;34m.\u001b[0m\u001b[0mdtype\u001b[0m\u001b[0;34m\u001b[0m\u001b[0;34m\u001b[0m\u001b[0m\n\u001b[0m\u001b[1;32m    117\u001b[0m                 )\n\u001b[1;32m    118\u001b[0m             )\n",
      "\u001b[0;31mValueError\u001b[0m: Input contains NaN, infinity or a value too large for dtype('float64')."
     ]
    }
   ],
   "source": [
    "from sklearn.linear_model import LogisticRegression\n",
    "from sklearn.metrics import f1_score, accuracy_score\n",
    "\n",
    "features = df[[\n",
    "    'PCA1', \n",
    "    'PCA2',\n",
    "    'price',\n",
    "    'day_of_week', \n",
    "    'lagged_price', \n",
    "    'returns', \n",
    "    '3d_rolling_volatility',\n",
    "    '7d_rolling_volatility', \n",
    "    'mean_sentiment_score',\n",
    "    'max_sentiment_score', \n",
    "    'min_sentiment_score', \n",
    "    'std_sentiment_score']].iloc[:, 8:-1]\n",
    "\n",
    "target = df['future_returns'].iloc[8:-1]\n",
    "\n",
    "df['target'] = (target > 0).astype(int)\n",
    "target = df['target']\n",
    "\n",
    "\n",
    "train_index = int(0.8 * len(target))\n",
    "test_index = int(0.9 * len(target))\n",
    "\n",
    "\n",
    "\n",
    "X_train, X_test, X_validate = features[:train_index], features[train_index:test_index], features[test_index:]\n",
    "y_train, y_test, y_validate = target[:train_index], target[train_index:test_index], target[test_index:]\n",
    "\n",
    "log_reg = LogisticRegression()\n",
    "log_reg.fit(X_train, y_train)\n",
    "\n",
    "y_pred_test = log_reg.predict(X_test)\n",
    "\n",
    "accuracy_test = accuracy_score(y_test, y_pred_test)\n",
    "f1_test = f1_score(y_test, y_pred_test)\n",
    "\n",
    "print(f'Test Accuracy: {accuracy_test * 100:.2f}%')\n",
    "print(f'Test F1: {f1_test * 100:.2f}%')\n",
    "\n",
    "# Validate the model\n",
    "y_pred_validate = log_reg.predict(X_validate)\n",
    "\n",
    "# Calculate accuracy and F1 score\n",
    "accuracy_validate = accuracy_score(y_validate, y_pred_validate)\n",
    "f1_validate = f1_score(y_validate, y_pred_validate)\n",
    "\n",
    "print(f'Validation Accuracy: {accuracy_validate * 100:.2f}%')\n",
    "print(f'Validation F1 Score: {f1_validate:.2f}')"
   ]
  },
  {
   "cell_type": "code",
   "execution_count": 29,
   "id": "1b9f4fc8",
   "metadata": {},
   "outputs": [
    {
     "name": "stdout",
     "output_type": "stream",
     "text": [
      "Found NaN values in these rows:\n",
      "         PCA1      PCA2       time_published  index  \\\n",
      "0    0.276683 -0.118685  2022-03-02 00:00:00      0   \n",
      "1   -0.017817 -0.036053  2022-03-03 00:00:00      1   \n",
      "2    0.201123 -0.064235  2022-03-04 00:00:00      2   \n",
      "3    0.026907 -0.099944  2022-03-06 00:00:00      3   \n",
      "4   -0.022987  0.142521  2022-03-07 00:00:00      4   \n",
      "5   -0.067752  0.104093  2022-03-08 00:00:00      5   \n",
      "6   -0.106948  0.038500  2022-03-09 00:00:00      6   \n",
      "7   -0.056222  0.151689  2022-03-10 00:00:00      7   \n",
      "494 -0.053890 -0.061935  2023-07-31 00:00:00    494   \n",
      "\n",
      "                                                titles  \\\n",
      "0    Millions for Crypto Start-Ups, No Real Names N...   \n",
      "1    Yellen Says Treasury Will Monitor Crypto, Othe...   \n",
      "2    Crypto Market Sheds Nearly $100 Billion Overnight   \n",
      "3    's Guide to the Best Books on Bitcoin and Bloc...   \n",
      "4    Staying power of bitcoin as safe haven facing ...   \n",
      "5    Bitcoin, Ethereum, Dogecoin Lose More Sheen As...   \n",
      "6    Senator Warren seizes on fears over crypto and...   \n",
      "7    War in Ukraine could drive more people to cryp...   \n",
      "494  Coinbase CEO says SEC told it to delist everyt...   \n",
      "\n",
      "                                               content     price  day_of_week  \\\n",
      "0    For months, cryptocurrency enthusiasts poured ...  43892.98            2   \n",
      "1    In brief Several Senate Democrats asked Treasu...  42454.00            3   \n",
      "2    The total market capitalization of the crypto ...  39148.66            4   \n",
      "3    In 2021, crypto went more mainstream than ever...  38420.81            6   \n",
      "4    A representation of bitcoin is displayed in fr...  37988.00            0   \n",
      "5    Major coins traded in the red on Monday evenin...  38730.63            1   \n",
      "6    United States Senator Elizabeth Warren is prep...  41941.71            2   \n",
      "7    For investors, these are unprecedented times.\\...  39422.00            3   \n",
      "494  Crypto exchange Coinbase was once told by the ...  29316.92            0   \n",
      "\n",
      "     lagged_price   returns  3d_rolling_volatility  7d_rolling_volatility  \\\n",
      "0             NaN       NaN                    NaN                    NaN   \n",
      "1        43892.98 -0.032784                    NaN                    NaN   \n",
      "2        42454.00 -0.077857                    NaN                    NaN   \n",
      "3        39148.66 -0.018592               0.030944                    NaN   \n",
      "4        38420.81 -0.011265               0.036516                    NaN   \n",
      "5        37988.00  0.019549               0.020240                    NaN   \n",
      "6        38730.63  0.082908               0.048015                    NaN   \n",
      "7        41941.71 -0.060076               0.071646               0.053384   \n",
      "494      29314.14  0.000095               0.003787               0.013034   \n",
      "\n",
      "     future_returns  mean_sentiment_score  max_sentiment_score  \\\n",
      "0         -0.032784              0.000000             0.000000   \n",
      "1         -0.077857              0.579706             0.959240   \n",
      "2         -0.018592              0.000000             0.000000   \n",
      "3         -0.011265              0.643789             0.941814   \n",
      "4          0.019549              0.314775             0.896925   \n",
      "5          0.082908              0.374770             0.965163   \n",
      "6         -0.060076              0.770920             0.968552   \n",
      "7         -0.017565              0.394000             0.933671   \n",
      "494             NaN              0.270523             0.949299   \n",
      "\n",
      "     min_sentiment_score  std_sentiment_score  target  \n",
      "0                    0.0             0.000000     NaN  \n",
      "1                    0.0             0.427855     NaN  \n",
      "2                    0.0             0.000000     NaN  \n",
      "3                    0.0             0.366369     NaN  \n",
      "4                    0.0             0.371264     NaN  \n",
      "5                    0.0             0.459284     NaN  \n",
      "6                    0.0             0.347931     NaN  \n",
      "7                    0.0             0.436204     NaN  \n",
      "494                  0.0             0.427737     NaN  \n"
     ]
    },
    {
     "ename": "TypeError",
     "evalue": "ufunc 'isinf' not supported for the input types, and the inputs could not be safely coerced to any supported types according to the casting rule ''safe''",
     "output_type": "error",
     "traceback": [
      "\u001b[0;31m---------------------------------------------------------------------------\u001b[0m",
      "\u001b[0;31mTypeError\u001b[0m                                 Traceback (most recent call last)",
      "\u001b[0;32m<ipython-input-29-42a07aa74077>\u001b[0m in \u001b[0;36m<module>\u001b[0;34m\u001b[0m\n\u001b[1;32m     18\u001b[0m \u001b[0;34m\u001b[0m\u001b[0m\n\u001b[1;32m     19\u001b[0m \u001b[0;31m# Use the function on your DataFrame\u001b[0m\u001b[0;34m\u001b[0m\u001b[0;34m\u001b[0m\u001b[0;34m\u001b[0m\u001b[0m\n\u001b[0;32m---> 20\u001b[0;31m \u001b[0mcheck_values\u001b[0m\u001b[0;34m(\u001b[0m\u001b[0mdf\u001b[0m\u001b[0;34m)\u001b[0m\u001b[0;34m\u001b[0m\u001b[0;34m\u001b[0m\u001b[0m\n\u001b[0m",
      "\u001b[0;32m<ipython-input-29-42a07aa74077>\u001b[0m in \u001b[0;36mcheck_values\u001b[0;34m(df)\u001b[0m\n\u001b[1;32m      8\u001b[0m \u001b[0;34m\u001b[0m\u001b[0m\n\u001b[1;32m      9\u001b[0m     \u001b[0;31m# Check for infinity values\u001b[0m\u001b[0;34m\u001b[0m\u001b[0;34m\u001b[0m\u001b[0;34m\u001b[0m\u001b[0m\n\u001b[0;32m---> 10\u001b[0;31m     \u001b[0minf_rows\u001b[0m \u001b[0;34m=\u001b[0m \u001b[0mdf\u001b[0m\u001b[0;34m[\u001b[0m\u001b[0mnp\u001b[0m\u001b[0;34m.\u001b[0m\u001b[0misinf\u001b[0m\u001b[0;34m(\u001b[0m\u001b[0mdf\u001b[0m\u001b[0;34m)\u001b[0m\u001b[0;34m.\u001b[0m\u001b[0many\u001b[0m\u001b[0;34m(\u001b[0m\u001b[0maxis\u001b[0m\u001b[0;34m=\u001b[0m\u001b[0;36m1\u001b[0m\u001b[0;34m)\u001b[0m\u001b[0;34m]\u001b[0m\u001b[0;34m\u001b[0m\u001b[0;34m\u001b[0m\u001b[0m\n\u001b[0m\u001b[1;32m     11\u001b[0m     \u001b[0;32mif\u001b[0m \u001b[0;32mnot\u001b[0m \u001b[0minf_rows\u001b[0m\u001b[0;34m.\u001b[0m\u001b[0mempty\u001b[0m\u001b[0;34m:\u001b[0m\u001b[0;34m\u001b[0m\u001b[0;34m\u001b[0m\u001b[0m\n\u001b[1;32m     12\u001b[0m         \u001b[0mprint\u001b[0m\u001b[0;34m(\u001b[0m\u001b[0;34mf\"Found infinity values in these rows:\\n{inf_rows}\"\u001b[0m\u001b[0;34m)\u001b[0m\u001b[0;34m\u001b[0m\u001b[0;34m\u001b[0m\u001b[0m\n",
      "\u001b[0;32m~/info3950-env/lib/python3.7/site-packages/pandas/core/generic.py\u001b[0m in \u001b[0;36m__array_ufunc__\u001b[0;34m(self, ufunc, method, *inputs, **kwargs)\u001b[0m\n\u001b[1;32m   2030\u001b[0m         \u001b[0mself\u001b[0m\u001b[0;34m,\u001b[0m \u001b[0mufunc\u001b[0m\u001b[0;34m:\u001b[0m \u001b[0mnp\u001b[0m\u001b[0;34m.\u001b[0m\u001b[0mufunc\u001b[0m\u001b[0;34m,\u001b[0m \u001b[0mmethod\u001b[0m\u001b[0;34m:\u001b[0m \u001b[0mstr\u001b[0m\u001b[0;34m,\u001b[0m \u001b[0;34m*\u001b[0m\u001b[0minputs\u001b[0m\u001b[0;34m:\u001b[0m \u001b[0mAny\u001b[0m\u001b[0;34m,\u001b[0m \u001b[0;34m**\u001b[0m\u001b[0mkwargs\u001b[0m\u001b[0;34m:\u001b[0m \u001b[0mAny\u001b[0m\u001b[0;34m\u001b[0m\u001b[0;34m\u001b[0m\u001b[0m\n\u001b[1;32m   2031\u001b[0m     ):\n\u001b[0;32m-> 2032\u001b[0;31m         \u001b[0;32mreturn\u001b[0m \u001b[0marraylike\u001b[0m\u001b[0;34m.\u001b[0m\u001b[0marray_ufunc\u001b[0m\u001b[0;34m(\u001b[0m\u001b[0mself\u001b[0m\u001b[0;34m,\u001b[0m \u001b[0mufunc\u001b[0m\u001b[0;34m,\u001b[0m \u001b[0mmethod\u001b[0m\u001b[0;34m,\u001b[0m \u001b[0;34m*\u001b[0m\u001b[0minputs\u001b[0m\u001b[0;34m,\u001b[0m \u001b[0;34m**\u001b[0m\u001b[0mkwargs\u001b[0m\u001b[0;34m)\u001b[0m\u001b[0;34m\u001b[0m\u001b[0;34m\u001b[0m\u001b[0m\n\u001b[0m\u001b[1;32m   2033\u001b[0m \u001b[0;34m\u001b[0m\u001b[0m\n\u001b[1;32m   2034\u001b[0m     \u001b[0;31m# ideally we would define this to avoid the getattr checks, but\u001b[0m\u001b[0;34m\u001b[0m\u001b[0;34m\u001b[0m\u001b[0;34m\u001b[0m\u001b[0m\n",
      "\u001b[0;32m~/info3950-env/lib/python3.7/site-packages/pandas/core/arraylike.py\u001b[0m in \u001b[0;36marray_ufunc\u001b[0;34m(self, ufunc, method, *inputs, **kwargs)\u001b[0m\n\u001b[1;32m    370\u001b[0m             \u001b[0;31m# take this path if there are no kwargs\u001b[0m\u001b[0;34m\u001b[0m\u001b[0;34m\u001b[0m\u001b[0;34m\u001b[0m\u001b[0m\n\u001b[1;32m    371\u001b[0m             \u001b[0mmgr\u001b[0m \u001b[0;34m=\u001b[0m \u001b[0minputs\u001b[0m\u001b[0;34m[\u001b[0m\u001b[0;36m0\u001b[0m\u001b[0;34m]\u001b[0m\u001b[0;34m.\u001b[0m\u001b[0m_mgr\u001b[0m\u001b[0;34m\u001b[0m\u001b[0;34m\u001b[0m\u001b[0m\n\u001b[0;32m--> 372\u001b[0;31m             \u001b[0mresult\u001b[0m \u001b[0;34m=\u001b[0m \u001b[0mmgr\u001b[0m\u001b[0;34m.\u001b[0m\u001b[0mapply\u001b[0m\u001b[0;34m(\u001b[0m\u001b[0mgetattr\u001b[0m\u001b[0;34m(\u001b[0m\u001b[0mufunc\u001b[0m\u001b[0;34m,\u001b[0m \u001b[0mmethod\u001b[0m\u001b[0;34m)\u001b[0m\u001b[0;34m)\u001b[0m\u001b[0;34m\u001b[0m\u001b[0;34m\u001b[0m\u001b[0m\n\u001b[0m\u001b[1;32m    373\u001b[0m         \u001b[0;32melse\u001b[0m\u001b[0;34m:\u001b[0m\u001b[0;34m\u001b[0m\u001b[0;34m\u001b[0m\u001b[0m\n\u001b[1;32m    374\u001b[0m             \u001b[0;31m# otherwise specific ufunc methods (eg np.<ufunc>.accumulate(..))\u001b[0m\u001b[0;34m\u001b[0m\u001b[0;34m\u001b[0m\u001b[0;34m\u001b[0m\u001b[0m\n",
      "\u001b[0;32m~/info3950-env/lib/python3.7/site-packages/pandas/core/internals/managers.py\u001b[0m in \u001b[0;36mapply\u001b[0;34m(self, f, align_keys, ignore_failures, **kwargs)\u001b[0m\n\u001b[1;32m    323\u001b[0m             \u001b[0;32mtry\u001b[0m\u001b[0;34m:\u001b[0m\u001b[0;34m\u001b[0m\u001b[0;34m\u001b[0m\u001b[0m\n\u001b[1;32m    324\u001b[0m                 \u001b[0;32mif\u001b[0m \u001b[0mcallable\u001b[0m\u001b[0;34m(\u001b[0m\u001b[0mf\u001b[0m\u001b[0;34m)\u001b[0m\u001b[0;34m:\u001b[0m\u001b[0;34m\u001b[0m\u001b[0;34m\u001b[0m\u001b[0m\n\u001b[0;32m--> 325\u001b[0;31m                     \u001b[0mapplied\u001b[0m \u001b[0;34m=\u001b[0m \u001b[0mb\u001b[0m\u001b[0;34m.\u001b[0m\u001b[0mapply\u001b[0m\u001b[0;34m(\u001b[0m\u001b[0mf\u001b[0m\u001b[0;34m,\u001b[0m \u001b[0;34m**\u001b[0m\u001b[0mkwargs\u001b[0m\u001b[0;34m)\u001b[0m\u001b[0;34m\u001b[0m\u001b[0;34m\u001b[0m\u001b[0m\n\u001b[0m\u001b[1;32m    326\u001b[0m                 \u001b[0;32melse\u001b[0m\u001b[0;34m:\u001b[0m\u001b[0;34m\u001b[0m\u001b[0;34m\u001b[0m\u001b[0m\n\u001b[1;32m    327\u001b[0m                     \u001b[0mapplied\u001b[0m \u001b[0;34m=\u001b[0m \u001b[0mgetattr\u001b[0m\u001b[0;34m(\u001b[0m\u001b[0mb\u001b[0m\u001b[0;34m,\u001b[0m \u001b[0mf\u001b[0m\u001b[0;34m)\u001b[0m\u001b[0;34m(\u001b[0m\u001b[0;34m**\u001b[0m\u001b[0mkwargs\u001b[0m\u001b[0;34m)\u001b[0m\u001b[0;34m\u001b[0m\u001b[0;34m\u001b[0m\u001b[0m\n",
      "\u001b[0;32m~/info3950-env/lib/python3.7/site-packages/pandas/core/internals/blocks.py\u001b[0m in \u001b[0;36mapply\u001b[0;34m(self, func, **kwargs)\u001b[0m\n\u001b[1;32m    379\u001b[0m         \"\"\"\n\u001b[1;32m    380\u001b[0m         \u001b[0;32mwith\u001b[0m \u001b[0mnp\u001b[0m\u001b[0;34m.\u001b[0m\u001b[0merrstate\u001b[0m\u001b[0;34m(\u001b[0m\u001b[0mall\u001b[0m\u001b[0;34m=\u001b[0m\u001b[0;34m\"ignore\"\u001b[0m\u001b[0;34m)\u001b[0m\u001b[0;34m:\u001b[0m\u001b[0;34m\u001b[0m\u001b[0;34m\u001b[0m\u001b[0m\n\u001b[0;32m--> 381\u001b[0;31m             \u001b[0mresult\u001b[0m \u001b[0;34m=\u001b[0m \u001b[0mfunc\u001b[0m\u001b[0;34m(\u001b[0m\u001b[0mself\u001b[0m\u001b[0;34m.\u001b[0m\u001b[0mvalues\u001b[0m\u001b[0;34m,\u001b[0m \u001b[0;34m**\u001b[0m\u001b[0mkwargs\u001b[0m\u001b[0;34m)\u001b[0m\u001b[0;34m\u001b[0m\u001b[0;34m\u001b[0m\u001b[0m\n\u001b[0m\u001b[1;32m    382\u001b[0m \u001b[0;34m\u001b[0m\u001b[0m\n\u001b[1;32m    383\u001b[0m         \u001b[0;32mreturn\u001b[0m \u001b[0mself\u001b[0m\u001b[0;34m.\u001b[0m\u001b[0m_split_op_result\u001b[0m\u001b[0;34m(\u001b[0m\u001b[0mresult\u001b[0m\u001b[0;34m)\u001b[0m\u001b[0;34m\u001b[0m\u001b[0;34m\u001b[0m\u001b[0m\n",
      "\u001b[0;31mTypeError\u001b[0m: ufunc 'isinf' not supported for the input types, and the inputs could not be safely coerced to any supported types according to the casting rule ''safe''"
     ]
    }
   ],
   "source": [
    "import numpy as np\n",
    "\n",
    "def check_values(df):\n",
    "    # Check for NaN values\n",
    "    nan_rows = df[df.isnull().any(axis=1)]\n",
    "    if not nan_rows.empty:\n",
    "        print(f\"Found NaN values in these rows:\\n{nan_rows}\")\n",
    "    \n",
    "    # Check for infinity values\n",
    "    inf_rows = df[np.isinf(df).any(axis=1)]\n",
    "    if not inf_rows.empty:\n",
    "        print(f\"Found infinity values in these rows:\\n{inf_rows}\")\n",
    "    \n",
    "    # Check for values too large for float64\n",
    "    large_rows = df[df.applymap(lambda x: x > np.finfo(np.float64).max).any(axis=1)]\n",
    "    if not large_rows.empty:\n",
    "        print(f\"Found values too large for float64 in these rows:\\n{large_rows}\")\n",
    "\n",
    "# Use the function on your DataFrame\n",
    "check_values(df)\n"
   ]
  },
  {
   "cell_type": "code",
   "execution_count": null,
   "id": "1610ff10",
   "metadata": {},
   "outputs": [],
   "source": []
  }
 ],
 "metadata": {
  "interpreter": {
   "hash": "60157fde6e189cbe6686f6c53aa0988c2d66633d9c610f3ba38d8502b1346dd4"
  },
  "kernelspec": {
   "display_name": "info3950-env",
   "language": "python",
   "name": "info3950-env"
  },
  "language_info": {
   "codemirror_mode": {
    "name": "ipython",
    "version": 3
   },
   "file_extension": ".py",
   "mimetype": "text/x-python",
   "name": "python",
   "nbconvert_exporter": "python",
   "pygments_lexer": "ipython3",
   "version": "3.7.6"
  }
 },
 "nbformat": 4,
 "nbformat_minor": 5
}
